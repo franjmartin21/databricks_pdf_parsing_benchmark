{
 "cells": [
  {
   "cell_type": "code",
   "execution_count": 0,
   "metadata": {
    "application/vnd.databricks.v1+cell": {
     "cellMetadata": {
      "byteLimit": 2048000,
      "rowLimit": 10000
     },
     "inputWidgets": {},
     "nuid": "7f4eb973-5e04-4fae-88f1-f6e646d4da9e",
     "showTitle": false,
     "tableResultSettingsMap": {},
     "title": ""
    }
   },
   "outputs": [],
   "source": [
    "%pip install transformers python-doctr==0.10.0 deepdoctection[pt]\n",
    "%restart_python"
   ]
  },
  {
   "cell_type": "code",
   "execution_count": 0,
   "metadata": {
    "application/vnd.databricks.v1+cell": {
     "cellMetadata": {
      "byteLimit": 2048000,
      "rowLimit": 10000
     },
     "inputWidgets": {},
     "nuid": "07d991fd-eaa8-479f-b59c-75197898c6db",
     "showTitle": false,
     "tableResultSettingsMap": {},
     "title": ""
    }
   },
   "outputs": [],
   "source": [
    "import deepdoctection as dd\n",
    "\n",
    "def process_document(document_path):\n",
    "    doc_data_return = []\n",
    "    analyzer = dd.get_dd_analyzer()\n",
    "    df = analyzer.analyze(path = document_path)\n",
    "    df.reset_state()\n",
    "    doc_iter = iter(df)\n",
    "    page_num = 0\n",
    "    while True:\n",
    "        try:\n",
    "            page = next(doc_iter)\n",
    "            page_num += 1\n",
    "            page_text = page.text\n",
    "            tables_html = [table.html for table in page.tables]\n",
    "            \n",
    "            doc_data_return.append({\n",
    "                'doc_id': document_path,\n",
    "                'doc_name': document_path.split('/')[-1],\n",
    "                'page_num': page_num,\n",
    "                'page_text': page.text,\n",
    "                'tables_html': tables_html,\n",
    "            })\n",
    "            break\n",
    "        except StopIteration:\n",
    "            print(f\"last page processed {page_num}\")\n",
    "            break\n",
    "\n",
    "\n",
    "    return doc_data_return"
   ]
  },
  {
   "cell_type": "code",
   "execution_count": 0,
   "metadata": {
    "application/vnd.databricks.v1+cell": {
     "cellMetadata": {
      "byteLimit": 2048000,
      "rowLimit": 10000
     },
     "inputWidgets": {},
     "nuid": "512280dd-3167-43fd-92b8-7b9b52dc158a",
     "showTitle": false,
     "tableResultSettingsMap": {},
     "title": ""
    }
   },
   "outputs": [],
   "source": [
    "import os\n",
    "\n",
    "file_path = \"/Volumes/pdf_parsing/test_parsing/raw_files/aph_example_1.pdf\"\n",
    "data_returned = process_document(file_path)"
   ]
  },
  {
   "cell_type": "code",
   "execution_count": 0,
   "metadata": {
    "application/vnd.databricks.v1+cell": {
     "cellMetadata": {
      "byteLimit": 2048000,
      "rowLimit": 10000
     },
     "inputWidgets": {},
     "nuid": "5e4fa7fc-731f-4d73-9bd8-37e07e583193",
     "showTitle": false,
     "tableResultSettingsMap": {},
     "title": ""
    }
   },
   "outputs": [],
   "source": [
    "data_returned"
   ]
  },
  {
   "cell_type": "code",
   "execution_count": 0,
   "metadata": {
    "application/vnd.databricks.v1+cell": {
     "cellMetadata": {
      "byteLimit": 2048000,
      "rowLimit": 10000
     },
     "inputWidgets": {},
     "nuid": "da3747f5-2d41-4c05-93d9-b6d0703aaaf0",
     "showTitle": false,
     "tableResultSettingsMap": {},
     "title": ""
    }
   },
   "outputs": [],
   "source": [
    "volume_path = \"/Volumes/pdf_parsing/test_parsing/raw_files\"\n",
    "os.listdir(volume_path)\n"
   ]
  },
  {
   "cell_type": "code",
   "execution_count": 0,
   "metadata": {
    "application/vnd.databricks.v1+cell": {
     "cellMetadata": {
      "byteLimit": 2048000,
      "rowLimit": 10000
     },
     "inputWidgets": {},
     "nuid": "a71e688a-4c22-4503-b2e2-bd5f7f5dd2ef",
     "showTitle": false,
     "tableResultSettingsMap": {},
     "title": ""
    }
   },
   "outputs": [],
   "source": [
    "import os\n",
    "\n",
    "volume_path = \"/Volumes/pdf_parsing/test_parsing/raw_files\"\n",
    "all_doc_data = []\n",
    "\n",
    "for filename in os.listdir(volume_path):\n",
    "    file_path = os.path.join(volume_path, filename)\n",
    "    if os.path.isfile(file_path):\n",
    "        doc_data = process_document(file_path)\n",
    "        all_doc_data.extend(doc_data)"
   ]
  },
  {
   "cell_type": "code",
   "execution_count": 0,
   "metadata": {
    "application/vnd.databricks.v1+cell": {
     "cellMetadata": {
      "byteLimit": 2048000,
      "rowLimit": 10000
     },
     "inputWidgets": {},
     "nuid": "ddf2aedb-9a12-4e2a-8cb4-1417bcf416d2",
     "showTitle": false,
     "tableResultSettingsMap": {},
     "title": ""
    }
   },
   "outputs": [],
   "source": [
    "df = spark.createDataFrame(all_doc_data)\n",
    "df.write.mode(\"overwrite\").saveAsTable(\"pdf_parsing.test_parsing.doc_parsed_data\")"
   ]
  },
  {
   "cell_type": "code",
   "execution_count": 0,
   "metadata": {
    "application/vnd.databricks.v1+cell": {
     "cellMetadata": {
      "byteLimit": 2048000,
      "rowLimit": 10000
     },
     "inputWidgets": {},
     "nuid": "9ce43d87-1de2-4142-81ca-b3cf719596a3",
     "showTitle": false,
     "tableResultSettingsMap": {},
     "title": ""
    }
   },
   "outputs": [],
   "source": [
    "analyzer = dd.get_dd_analyzer()\n",
    "df = analyzer.analyze(path = \"/Volumes/pdf_parsing/test_parsing/raw_files/aph_example_1.pdf\")"
   ]
  },
  {
   "cell_type": "code",
   "execution_count": 0,
   "metadata": {
    "application/vnd.databricks.v1+cell": {
     "cellMetadata": {
      "byteLimit": 2048000,
      "rowLimit": 10000
     },
     "inputWidgets": {},
     "nuid": "4fabb465-d7c1-406e-ad8f-eeb133a94e23",
     "showTitle": false,
     "tableResultSettingsMap": {},
     "title": ""
    }
   },
   "outputs": [],
   "source": [
    "df.reset_state()\n",
    "doc = iter(df)"
   ]
  },
  {
   "cell_type": "code",
   "execution_count": 0,
   "metadata": {
    "application/vnd.databricks.v1+cell": {
     "cellMetadata": {
      "byteLimit": 2048000,
      "rowLimit": 10000
     },
     "inputWidgets": {},
     "nuid": "af234200-70cc-471a-b39c-0bdd892a2e56",
     "showTitle": false,
     "tableResultSettingsMap": {},
     "title": ""
    }
   },
   "outputs": [],
   "source": [
    "pagezz = next(doc)"
   ]
  },
  {
   "cell_type": "code",
   "execution_count": 0,
   "metadata": {
    "application/vnd.databricks.v1+cell": {
     "cellMetadata": {},
     "inputWidgets": {},
     "nuid": "12f6c367-ccc8-4bc6-864f-eca0a99a2db8",
     "showTitle": false,
     "tableResultSettingsMap": {},
     "title": ""
    }
   },
   "outputs": [],
   "source": []
  }
 ],
 "metadata": {
  "application/vnd.databricks.v1+notebook": {
   "computePreferences": {
    "hardware": {
     "accelerator": null,
     "gpuPoolId": null,
     "memory": null
    }
   },
   "dashboards": [],
   "environmentMetadata": {
    "base_environment": "",
    "environment_version": "4"
   },
   "inputWidgetPreferences": null,
   "language": "python",
   "notebookMetadata": {
    "pythonIndentUnit": 4
   },
   "notebookName": "deepdoctection_test",
   "widgets": {}
  },
  "language_info": {
   "name": "python"
  }
 },
 "nbformat": 4,
 "nbformat_minor": 0
}
