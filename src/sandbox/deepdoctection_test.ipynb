{
 "cells": [
  {
   "cell_type": "code",
   "execution_count": 0,
   "metadata": {
    "application/vnd.databricks.v1+cell": {
     "cellMetadata": {
      "byteLimit": 2048000,
      "rowLimit": 10000
     },
     "inputWidgets": {},
     "nuid": "7f4eb973-5e04-4fae-88f1-f6e646d4da9e",
     "showTitle": false,
     "tableResultSettingsMap": {},
     "title": ""
    }
   },
   "outputs": [],
   "source": [
    "%pip install transformers python-doctr==0.10.0 deepdoctection[pt]\n",
    "%restart_python"
   ]
  },
  {
   "cell_type": "code",
   "execution_count": 0,
   "metadata": {
    "application/vnd.databricks.v1+cell": {
     "cellMetadata": {
      "byteLimit": 2048000,
      "rowLimit": 10000
     },
     "inputWidgets": {},
     "nuid": "07d991fd-eaa8-479f-b59c-75197898c6db",
     "showTitle": false,
     "tableResultSettingsMap": {},
     "title": ""
    }
   },
   "outputs": [],
   "source": [
    "import deepdoctection as dd\n",
    "\n",
    "def process_document(document_path):\n",
    "    doc_data_return = []\n",
    "    config_overwrite = [\"USE_TABLE_SEGMENTATION=True\", \"USE_TABLE_REFINEMENT=True\"]\n",
    "    analyzer = dd.get_dd_analyzer(config_overwrite=config_overwrite)\n",
    "    df = analyzer.analyze(path = document_path)\n",
    "    df.reset_state()\n",
    "    doc_iter = iter(df)\n",
    "    page_num = 0\n",
    "    while True:\n",
    "        try:\n",
    "            page = next(doc_iter)\n",
    "            page_num += 1\n",
    "            page_text = page.text\n",
    "            tables_html = [table.html for table in page.tables]\n",
    "            \n",
    "            doc_data_return.append({\n",
    "                'doc_id': document_path,\n",
    "                'doc_name': document_path.split('/')[-1],\n",
    "                'page_num': page_num,\n",
    "                'page_text': page.text,\n",
    "                'tables_html': tables_html,\n",
    "            })\n",
    "        except StopIteration:\n",
    "            print(f\"last page processed {page_num}\")\n",
    "            break\n",
    "\n",
    "\n",
    "    return doc_data_return"
   ]
  },
  {
   "cell_type": "code",
   "execution_count": 0,
   "metadata": {
    "application/vnd.databricks.v1+cell": {
     "cellMetadata": {
      "byteLimit": 2048000,
      "rowLimit": 10000
     },
     "inputWidgets": {},
     "nuid": "512280dd-3167-43fd-92b8-7b9b52dc158a",
     "showTitle": false,
     "tableResultSettingsMap": {},
     "title": ""
    }
   },
   "outputs": [],
   "source": [
    "import os\n",
    "\n",
    "file_path = \"/Volumes/pdf_parsing/test_parsing/raw_files/aph_example_1.pdf\"\n",
    "data_returned = process_document(file_path)"
   ]
  },
  {
   "cell_type": "code",
   "execution_count": 0,
   "metadata": {
    "application/vnd.databricks.v1+cell": {
     "cellMetadata": {
      "byteLimit": 2048000,
      "rowLimit": 10000
     },
     "inputWidgets": {},
     "nuid": "5e4fa7fc-731f-4d73-9bd8-37e07e583193",
     "showTitle": false,
     "tableResultSettingsMap": {},
     "title": ""
    }
   },
   "outputs": [],
   "source": [
    "data_returned"
   ]
  },
  {
   "cell_type": "code",
   "execution_count": 0,
   "metadata": {
    "application/vnd.databricks.v1+cell": {
     "cellMetadata": {
      "byteLimit": 2048000,
      "rowLimit": 10000
     },
     "inputWidgets": {},
     "nuid": "da3747f5-2d41-4c05-93d9-b6d0703aaaf0",
     "showTitle": false,
     "tableResultSettingsMap": {},
     "title": ""
    }
   },
   "outputs": [],
   "source": [
    "volume_path = \"/Volumes/pdf_parsing/test_parsing/raw_files\"\n",
    "os.listdir(volume_path)\n"
   ]
  },
  {
   "cell_type": "code",
   "execution_count": 0,
   "metadata": {
    "application/vnd.databricks.v1+cell": {
     "cellMetadata": {
      "byteLimit": 2048000,
      "rowLimit": 10000
     },
     "inputWidgets": {},
     "nuid": "a71e688a-4c22-4503-b2e2-bd5f7f5dd2ef",
     "showTitle": false,
     "tableResultSettingsMap": {},
     "title": ""
    }
   },
   "outputs": [],
   "source": [
    "import os\n",
    "\n",
    "volume_path = \"/Volumes/pdf_parsing/test_parsing/raw_files\"\n",
    "all_doc_data = []\n",
    "\n",
    "for filename in os.listdir(volume_path):\n",
    "    file_path = os.path.join(volume_path, filename)\n",
    "    doc_data = process_document(file_path)\n",
    "    all_doc_data.extend(doc_data)"
   ]
  },
  {
   "cell_type": "code",
   "execution_count": 0,
   "metadata": {
    "application/vnd.databricks.v1+cell": {
     "cellMetadata": {
      "byteLimit": 2048000,
      "rowLimit": 10000
     },
     "inputWidgets": {},
     "nuid": "ddf2aedb-9a12-4e2a-8cb4-1417bcf416d2",
     "showTitle": false,
     "tableResultSettingsMap": {},
     "title": ""
    }
   },
   "outputs": [],
   "source": [
    "df = spark.createDataFrame(all_doc_data)\n",
    "df.write.mode(\"overwrite\").saveAsTable(\"pdf_parsing.test_parsing.doc_parsed_data\")"
   ]
  },
  {
   "cell_type": "code",
   "execution_count": 0,
   "metadata": {
    "application/vnd.databricks.v1+cell": {
     "cellMetadata": {
      "byteLimit": 2048000,
      "implicitDf": true,
      "rowLimit": 10000
     },
     "inputWidgets": {},
     "nuid": "a9a0b772-3379-4554-b360-620297251468",
     "showTitle": false,
     "tableResultSettingsMap": {},
     "title": ""
    }
   },
   "outputs": [],
   "source": [
    "%sql\n",
    "select *\n",
    "from pdf_parsing.test_parsing.doc_parsed_data"
   ]
  },
  {
   "cell_type": "code",
   "execution_count": 0,
   "metadata": {
    "application/vnd.databricks.v1+cell": {
     "cellMetadata": {
      "byteLimit": 2048000,
      "implicitDf": true,
      "rowLimit": 10000
     },
     "inputWidgets": {},
     "nuid": "15e9c5b3-7015-44f6-910b-5e7fd72d8394",
     "showTitle": false,
     "tableResultSettingsMap": {
      "0": {
       "dataGridStateBlob": "{\"version\":1,\"tableState\":{\"columnPinning\":{\"left\":[\"#row_number#\"],\"right\":[]},\"columnSizing\":{},\"columnVisibility\":{}},\"settings\":{\"columns\":{}},\"syncTimestamp\":1759752654160}",
       "filterBlob": null,
       "queryPlanFiltersBlob": null,
       "tableResultIndex": 0
      }
     },
     "title": ""
    }
   },
   "outputs": [],
   "source": [
    "%sql\n",
    "select *, size(tables_html)\n",
    "from pdf_parsing.test_parsing.doc_parsed_data"
   ]
  },
  {
   "cell_type": "code",
   "execution_count": 0,
   "metadata": {
    "application/vnd.databricks.v1+cell": {
     "cellMetadata": {
      "byteLimit": 2048000,
      "rowLimit": 10000
     },
     "inputWidgets": {},
     "nuid": "b22cc2b1-b92c-4868-9f95-1a78deb1668d",
     "showTitle": false,
     "tableResultSettingsMap": {},
     "title": ""
    }
   },
   "outputs": [],
   "source": [
    "from pyspark.sql.functions import concat_ws, col\n",
    "\n",
    "df = spark.table(\"pdf_parsing.test_parsing.doc_parsed_data\")\n",
    "df = df.withColumn(\"data_to_extract\", concat_ws(\" \", col(\"page_text\"), col(\"tables_html\")))\n",
    "df.write.mode(\"overwrite\").option(\"mergeSchema\", \"true\").saveAsTable(\"pdf_parsing.test_parsing.doc_parsed_data\")"
   ]
  },
  {
   "cell_type": "code",
   "execution_count": 0,
   "metadata": {
    "application/vnd.databricks.v1+cell": {
     "cellMetadata": {},
     "inputWidgets": {},
     "nuid": "feb0557f-2d23-443e-871c-bde5a0ad4e81",
     "showTitle": false,
     "tableResultSettingsMap": {},
     "title": ""
    }
   },
   "outputs": [],
   "source": []
  }
 ],
 "metadata": {
  "application/vnd.databricks.v1+notebook": {
   "computePreferences": {
    "hardware": {
     "accelerator": null,
     "gpuPoolId": null,
     "memory": null
    }
   },
   "dashboards": [],
   "environmentMetadata": {
    "base_environment": "",
    "environment_version": "4"
   },
   "inputWidgetPreferences": null,
   "language": "python",
   "notebookMetadata": {
    "mostRecentlyExecutedCommandWithImplicitDF": {
     "commandId": 4551809190429580,
     "dataframes": [
      "_sqldf"
     ]
    },
    "pythonIndentUnit": 4
   },
   "notebookName": "deepdoctection_test",
   "widgets": {}
  },
  "language_info": {
   "name": "python"
  }
 },
 "nbformat": 4,
 "nbformat_minor": 0
}
