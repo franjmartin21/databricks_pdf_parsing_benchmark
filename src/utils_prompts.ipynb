{
 "cells": [
  {
   "cell_type": "code",
   "execution_count": 0,
   "metadata": {
    "application/vnd.databricks.v1+cell": {
     "cellMetadata": {
      "byteLimit": 2048000,
      "rowLimit": 10000
     },
     "inputWidgets": {},
     "nuid": "4a33a5e8-c274-4b24-abaa-c8913fbdc0ca",
     "showTitle": false,
     "tableResultSettingsMap": {},
     "title": ""
    }
   },
   "outputs": [],
   "source": [
    "GENERIC_PROMPT = \"\"\"\n",
    "    Instructions: Transcribe only the visible text from this PDF page. \n",
    "\n",
    "    Rules:\n",
    "    - Use markdown formatting only for text that appears formatted in the original\n",
    "    - Do not add document titles, page headers, or section headings unless explicitly visible\n",
    "    - Do not add introductory text like 'This page contains...' or 'The document shows...' or '# Transcription of PDF Page'\n",
    "    - Preserve exact wording and medical terminology\n",
    "    - For images/diagrams: describe content within <figure></figure> tags\n",
    "    - For tables: use markdown table format if present\n",
    "    - Start transcription immediately without preamble\n",
    "\n",
    "    For visual elements, follow these rules:\n",
    "\n",
    "    **TABLES**: If the content is clearly a structured table, provide BOTH:\n",
    "    1. A detailed caption in <figure></figure> tags describing the table structure and content\n",
    "    2. The actual table recreated in markdown format with proper alignment\n",
    "    3. Make sure of always provide the complete markdown representation of every single table\n",
    "\n",
    "    **FLOWCHARTS/DECISION TREES**: Provide detailed caption in <figure></figure> tags including:\n",
    "    - Starting point and decision criteria\n",
    "    - All pathways and decision branches\n",
    "    - Specific thresholds, values, and conditions\n",
    "    - Final outcomes and recommendations\n",
    "    - Flow direction and logical connections\n",
    "\n",
    "    **CHARTS/DIAGRAMS**: Provide detailed caption in <figure></figure> tags including:\n",
    "    - Chart type and title\n",
    "    - All categories, sections, and color coding\n",
    "    - Specific values, ranges, and criteria\n",
    "    - Evidence levels and recommendations\n",
    "    - Visual organization and groupings\n",
    "\n",
    "    **FORMS/CHECKLISTS**: Transcribe structure using markdown formatting, preserving:\n",
    "    - Section headers and numbering\n",
    "    - Checkbox options and rating scales\n",
    "    - Table structures for data entry\n",
    "    - All field labels and instructions\n",
    "\n",
    "    Example for tables:\n",
    "    <figure>Table showing Maintenance Medications in COPD with columns for Generic Drug Name, Inhaler Type, Nebulizer availability, Oral/Injectable Delivery options, and Duration of Action. Organized by medication categories including BETA2-Agonists, Anticholinergics, Combination therapies, Methylxanthines, and Biologics with specific medications, delivery methods, and timing information for each.</figure>\n",
    "\n",
    "    | Generic Drug Name | Inhaler Type | Nebulizer | Oral/Injectable Delivery | Duration of Action |\n",
    "    |-------------------|--------------|-----------|--------------------------|-------------------|\n",
    "    | **BETA2-Agonists** | | | | |\n",
    "    | Fenoterol | MDI | ✓ | tablet, solution | variable |\n",
    "\n",
    "\n",
    "    Accuracy on the transcription is critical.\n",
    "\"\"\""
   ]
  },
  {
   "cell_type": "code",
   "execution_count": 0,
   "metadata": {
    "application/vnd.databricks.v1+cell": {
     "cellMetadata": {},
     "inputWidgets": {},
     "nuid": "21e2e819-c138-4f7b-af2e-f6387a241283",
     "showTitle": false,
     "tableResultSettingsMap": {},
     "title": ""
    }
   },
   "outputs": [],
   "source": []
  }
 ],
 "metadata": {
  "application/vnd.databricks.v1+notebook": {
   "computePreferences": null,
   "dashboards": [],
   "environmentMetadata": {
    "base_environment": "",
    "environment_version": "3"
   },
   "inputWidgetPreferences": null,
   "language": "python",
   "notebookMetadata": {
    "pythonIndentUnit": 4
   },
   "notebookName": "utils_prompts",
   "widgets": {}
  },
  "language_info": {
   "name": "python"
  }
 },
 "nbformat": 4,
 "nbformat_minor": 0
}
